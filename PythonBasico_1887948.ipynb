{
 "cells": [
  {
   "cell_type": "markdown",
   "metadata": {},
   "source": [
    "Ejercicio 1:\n",
    "Realiza una variable con tu matricula y realiza una secuencia de imprimir con tu nombre y tu matricula concatenados."
   ]
  },
  {
   "cell_type": "code",
   "execution_count": 1,
   "metadata": {},
   "outputs": [
    {
     "name": "stdout",
     "output_type": "stream",
     "text": [
      "Alexis Hernández Morales 1887948\n"
     ]
    }
   ],
   "source": [
    "mat=1887948\n",
    "print(\"Alexis Hernández Morales\",mat)"
   ]
  },
  {
   "cell_type": "markdown",
   "metadata": {},
   "source": [
    "Ejercicio 2:\n",
    "Pidiendo el input del usuario pide dos números y crea una pequeña calculadora con los operadores básicos de suma, resta, multiplicación, división, y exponente."
   ]
  },
  {
   "cell_type": "code",
   "execution_count": 3,
   "metadata": {},
   "outputs": [
    {
     "name": "stdout",
     "output_type": "stream",
     "text": [
      "Primer número:6\n",
      "Segundo número: 3\n",
      "Suma:  9\n",
      "Resta:  3\n",
      "Multiplicación:  18\n",
      "División:  2.0\n"
     ]
    }
   ],
   "source": [
    "a = int(input(\"Primer número:\" ))\n",
    "b = int(input(\"Segundo número: \"))\n",
    "\n",
    "print (\"Suma: \", a+b)\n",
    "print (\"Resta: \", a-b)\n",
    "print (\"Multiplicación: \", a*b)\n",
    "print (\"División: \", a/b)"
   ]
  },
  {
   "cell_type": "markdown",
   "metadata": {},
   "source": [
    "Ejercicio 3:\n",
    "Con loop while o for, realiza una lista de 10 numeros multiplos de 3, y después realiza una función de loop que sume todos los números dentro del arreglo."
   ]
  },
  {
   "cell_type": "code",
   "execution_count": 19,
   "metadata": {},
   "outputs": [
    {
     "name": "stdout",
     "output_type": "stream",
     "text": [
      "[3, 6, 9, 12, 15, 18, 21, 24, 27, 30]\n"
     ]
    },
    {
     "data": {
      "text/plain": [
       "165"
      ]
     },
     "execution_count": 19,
     "metadata": {},
     "output_type": "execute_result"
    }
   ],
   "source": [
    "n = []\n",
    "for i in range(1,11):\n",
    "    n.append(i*3)\n",
    "    \n",
    "print(n)\n",
    "\n",
    "suma=0\n",
    "for i in range(0,10):\n",
    "    suma=suma+n[i]\n",
    "    \n",
    "suma "
   ]
  },
  {
   "cell_type": "markdown",
   "metadata": {},
   "source": [
    "Ejercicio 4\n",
    "Con una función de if else, revisar si un número es par o es impar.\n",
    "Con una función de if else, revisar si un número es primo o no."
   ]
  },
  {
   "cell_type": "code",
   "execution_count": 26,
   "metadata": {},
   "outputs": [
    {
     "name": "stdout",
     "output_type": "stream",
     "text": [
      "Número:12\n",
      "12  es par\n"
     ]
    }
   ],
   "source": [
    "a = int(input(\"Número:\" ))\n",
    "if a%2==0:\n",
    "    print(a,\" es par\")\n",
    "else:\n",
    "    print(a,\" es impar\")"
   ]
  },
  {
   "cell_type": "markdown",
   "metadata": {},
   "source": [
    "Ejercicio 5\n",
    "Utilizando diferentes clases en python, crea una calculadora con los operadores básicos de suma, resta, multiplicación, división, y exponente."
   ]
  },
  {
   "cell_type": "code",
   "execution_count": 28,
   "metadata": {},
   "outputs": [
    {
     "name": "stdout",
     "output_type": "stream",
     "text": [
      "Primer número:2\n",
      "Segundo número: 6\n",
      "8\n",
      "-4\n",
      "12\n",
      "0.3333333333333333\n"
     ]
    }
   ],
   "source": [
    "a = int(input(\"Primer número:\" ))\n",
    "b = int(input(\"Segundo número: \"))\n",
    "\n",
    "def suma(c,d):\n",
    "    e=c+d\n",
    "    return e\n",
    "\n",
    "def resta(c,d):\n",
    "    e=c-d\n",
    "    return e\n",
    "\n",
    "def mult(c,d):\n",
    "    e=c*d\n",
    "    return e\n",
    "\n",
    "def div(c,d):\n",
    "    e=c/d\n",
    "    return e\n",
    "\n",
    "print(suma(a,b))\n",
    "print(resta(a,b))\n",
    "print(mult(a,b))\n",
    "print(div(a,b))"
   ]
  },
  {
   "cell_type": "markdown",
   "metadata": {},
   "source": [
    "Ejercicios con estructuras básicas de python.\n",
    "#Tuplas\n",
    "#Crear una variable flotante, integer, boleana y compleja e imprimir el tipo de variable que es.\n",
    "#Crear una tupla con valores enteros imprimir el primer y ultimo valor.\n",
    "#Añadir 3 valores de string a la tupla.\n",
    "#Verificar si una variable existe dentro de la tupla."
   ]
  },
  {
   "cell_type": "code",
   "execution_count": 42,
   "metadata": {},
   "outputs": [
    {
     "data": {
      "text/plain": [
       "(float, int, bool, complex)"
      ]
     },
     "execution_count": 42,
     "metadata": {},
     "output_type": "execute_result"
    }
   ],
   "source": [
    "a=float\n",
    "b=int\n",
    "c=bool\n",
    "d=complex\n",
    "a,b,c,d"
   ]
  },
  {
   "cell_type": "code",
   "execution_count": 55,
   "metadata": {
    "scrolled": true
   },
   "outputs": [
    {
     "name": "stdout",
     "output_type": "stream",
     "text": [
      "5 20\n"
     ]
    }
   ],
   "source": [
    "tupla=(5,10,15,20)\n",
    "print(tupla[0],tupla[3])"
   ]
  },
  {
   "cell_type": "code",
   "execution_count": 56,
   "metadata": {},
   "outputs": [
    {
     "name": "stdout",
     "output_type": "stream",
     "text": [
      "[5, 10, 15, 20, 'hola', 'hol', 'ho']\n"
     ]
    }
   ],
   "source": [
    "tupla = list(tupla)\n",
    "tupla.append('hola')\n",
    "tupla.append('hol')\n",
    "tupla.append('ho')\n",
    "a = tuple(tupla)\n",
    "print (tupla)\n",
    "#https://entrenamiento-python-basico.readthedocs.io/es/latest/leccion3/tipo_tuplas.html"
   ]
  },
  {
   "cell_type": "code",
   "execution_count": 57,
   "metadata": {},
   "outputs": [
    {
     "name": "stdout",
     "output_type": "stream",
     "text": [
      "5\n",
      "10\n",
      "15\n",
      "20\n",
      "hola\n",
      "hol\n",
      "ho\n"
     ]
    }
   ],
   "source": [
    "for i in range(0,len(tupla)):\n",
    "    print(tupla[i])"
   ]
  },
  {
   "cell_type": "markdown",
   "metadata": {},
   "source": [
    "#Listas \n",
    "#Crear una lista con 40 elementos aleatorios enteros. \n",
    "#Con una funcion (def) crear dos listas nuevas a partir de la lista creada por numeros aleatorios, en la cual en una esten los elementos pares, y en la otra los elementos impares. \n",
    "#Crear dos variables con la longitud de ambas listas nuevas e imprimir las variables. \n",
    "#Ordenar los elementos de la lista par de mayor a menor, y los de la lista impar de menor a mayor. \n",
    "#Utilizar al menos cuatro de las funciones de listas en python en la lista original de 40 elementos."
   ]
  },
  {
   "cell_type": "code",
   "execution_count": 84,
   "metadata": {
    "scrolled": true
   },
   "outputs": [
    {
     "data": {
      "text/plain": [
       "[2,\n",
       " 61,\n",
       " 74,\n",
       " 82,\n",
       " 76,\n",
       " 16,\n",
       " 25,\n",
       " 6,\n",
       " 13,\n",
       " 34,\n",
       " 1,\n",
       " 50,\n",
       " 45,\n",
       " 1,\n",
       " 80,\n",
       " 93,\n",
       " 72,\n",
       " 69,\n",
       " 90,\n",
       " 77,\n",
       " 24,\n",
       " 91,\n",
       " 25,\n",
       " 11,\n",
       " 65,\n",
       " 55,\n",
       " 63,\n",
       " 77,\n",
       " 46,\n",
       " 31,\n",
       " 25,\n",
       " 87,\n",
       " 95,\n",
       " 38,\n",
       " 63,\n",
       " 41,\n",
       " 56,\n",
       " 40,\n",
       " 72,\n",
       " 64]"
      ]
     },
     "execution_count": 84,
     "metadata": {},
     "output_type": "execute_result"
    }
   ],
   "source": [
    "import random as r\n",
    "a=[]\n",
    "for i in range(0,40):\n",
    "    a.append(r.randint(1,100))\n",
    "    \n",
    "a"
   ]
  },
  {
   "cell_type": "code",
   "execution_count": 90,
   "metadata": {
    "scrolled": true
   },
   "outputs": [
    {
     "name": "stdout",
     "output_type": "stream",
     "text": [
      "[2, 74, 82, 76, 16, 6, 34, 50, 80, 72, 90, 24, 46, 38, 56, 40, 72, 64] [61, 25, 13, 1, 45, 1, 93, 69, 77, 91, 25, 11, 65, 55, 63, 77, 31, 25, 87, 95, 63, 41]\n"
     ]
    }
   ],
   "source": [
    "def list(a):\n",
    "    b=[]\n",
    "    c=[]\n",
    "    for i in range(len(a)):\n",
    "        if a[i]%2==0:\n",
    "            c.append(a[i])\n",
    "        else:\n",
    "            b.append(a[i])\n",
    "    return c,b\n",
    "par,imp=list(a)\n",
    "print(par,imp)\n",
    "#https://www.codegrepper.com/code-examples/python/can+we+return+two+list+in+python"
   ]
  },
  {
   "cell_type": "code",
   "execution_count": 98,
   "metadata": {},
   "outputs": [
    {
     "name": "stdout",
     "output_type": "stream",
     "text": [
      "[90, 82, 80, 76, 74, 72, 72, 64, 56, 50, 46, 40, 38, 34, 24, 16, 6, 2] [1, 1, 11, 13, 25, 25, 25, 31, 41, 45, 55, 61, 63, 63, 65, 69, 77, 77, 87, 91, 93, 95]\n"
     ]
    }
   ],
   "source": [
    "par.sort(reverse=True)\n",
    "imp.sort()\n",
    "print(par,imp)\n"
   ]
  },
  {
   "cell_type": "code",
   "execution_count": 114,
   "metadata": {},
   "outputs": [
    {
     "data": {
      "text/plain": [
       "[]"
      ]
     },
     "execution_count": 114,
     "metadata": {},
     "output_type": "execute_result"
    }
   ],
   "source": [
    "w=[]\n",
    "w=a.copy()\n",
    "e=a.count(1)\n",
    "a.pop(5)\n",
    "a.clear()\n",
    "#https://www.programiz.com/python-programming/methods/list/clear"
   ]
  },
  {
   "cell_type": "markdown",
   "metadata": {},
   "source": [
    "#Diccionarios \n",
    "#Crear un diccionario de 6 personas que conozcas con su primer nombre y su edad. \n",
    "#Crear una lista con los valores de la edad y reacomodar la lista de menor a mayor valor. \n",
    "#Usando el diccionario y un loop, imprimir solo los nombres.\n",
    "#Añadir dos personas nuevas a tu diccionario, incluyendo edad."
   ]
  },
  {
   "cell_type": "code",
   "execution_count": 118,
   "metadata": {
    "scrolled": true
   },
   "outputs": [],
   "source": [
    "diccionario={'nombre':['Juan','J','Ju','Jua','Juano','Juanos'],'edad':[30,27,22,23,24,25]}"
   ]
  },
  {
   "cell_type": "code",
   "execution_count": 120,
   "metadata": {},
   "outputs": [
    {
     "data": {
      "text/plain": [
       "[22, 23, 24, 25, 27, 30]"
      ]
     },
     "execution_count": 120,
     "metadata": {},
     "output_type": "execute_result"
    }
   ],
   "source": [
    "a=[]\n",
    "for i in range(0,6):\n",
    "    a.append(diccionario['edad'][i])\n",
    "\n",
    "a1=sorted(a)\n",
    "a1"
   ]
  },
  {
   "cell_type": "code",
   "execution_count": 121,
   "metadata": {
    "scrolled": true
   },
   "outputs": [
    {
     "name": "stdout",
     "output_type": "stream",
     "text": [
      "Juan\n",
      "J\n",
      "Ju\n",
      "Jua\n",
      "Juano\n",
      "Juanos\n"
     ]
    }
   ],
   "source": [
    "for i in range(0,6):\n",
    "    print(diccionario['nombre'][i])"
   ]
  },
  {
   "cell_type": "code",
   "execution_count": 112,
   "metadata": {},
   "outputs": [],
   "source": [
    "diccionario['nombre'].append(\"Alo\")\n",
    "diccionario['nombre'].append(\"SSS\")\n",
    "diccionario['edad'].append(50)\n",
    "diccionario['edad'].append(27)\n"
   ]
  },
  {
   "cell_type": "markdown",
   "metadata": {},
   "source": [
    "#Sets \n",
    "#Crea un set con 100 numeros aleatorios enteros del 1 al 25. \n",
    "#Comprueba la longitud de tu set. \n",
    "#Crea una lista de 5 numeros aleatorios del 1 al 10 y comprueba si cada valor aparece en el set inicial."
   ]
  },
  {
   "cell_type": "code",
   "execution_count": 2,
   "metadata": {},
   "outputs": [
    {
     "data": {
      "text/plain": [
       "{1,\n",
       " 2,\n",
       " 3,\n",
       " 4,\n",
       " 5,\n",
       " 6,\n",
       " 7,\n",
       " 8,\n",
       " 9,\n",
       " 10,\n",
       " 11,\n",
       " 12,\n",
       " 13,\n",
       " 14,\n",
       " 15,\n",
       " 16,\n",
       " 17,\n",
       " 18,\n",
       " 20,\n",
       " 21,\n",
       " 22,\n",
       " 23,\n",
       " 24,\n",
       " 25}"
      ]
     },
     "execution_count": 2,
     "metadata": {},
     "output_type": "execute_result"
    }
   ],
   "source": [
    "import random as r\n",
    "set1=set()\n",
    "for i in range(0,100):\n",
    "    set1.add(r.randint(1,25))\n",
    "    \n",
    "set1 #el set no permite valores repetidos y los pone en orden en automatico"
   ]
  },
  {
   "cell_type": "code",
   "execution_count": 3,
   "metadata": {},
   "outputs": [
    {
     "data": {
      "text/plain": [
       "24"
      ]
     },
     "execution_count": 3,
     "metadata": {},
     "output_type": "execute_result"
    }
   ],
   "source": [
    "len(set1)"
   ]
  },
  {
   "cell_type": "code",
   "execution_count": 14,
   "metadata": {},
   "outputs": [
    {
     "data": {
      "text/plain": [
       "[5, 8, 4, 3, 2]"
      ]
     },
     "execution_count": 14,
     "metadata": {},
     "output_type": "execute_result"
    }
   ],
   "source": [
    "import random as r\n",
    "w=[]\n",
    "for i in range(0,5):\n",
    "    w.append(r.randint(1,10))\n",
    "    \n",
    "w"
   ]
  },
  {
   "cell_type": "code",
   "execution_count": 15,
   "metadata": {},
   "outputs": [
    {
     "data": {
      "text/plain": [
       "{2, 3, 4, 5, 8}"
      ]
     },
     "execution_count": 15,
     "metadata": {},
     "output_type": "execute_result"
    }
   ],
   "source": [
    "set1.intersection(w)"
   ]
  }
 ],
 "metadata": {
  "kernelspec": {
   "display_name": "Python 3",
   "language": "python",
   "name": "python3"
  },
  "language_info": {
   "codemirror_mode": {
    "name": "ipython",
    "version": 3
   },
   "file_extension": ".py",
   "mimetype": "text/x-python",
   "name": "python",
   "nbconvert_exporter": "python",
   "pygments_lexer": "ipython3",
   "version": "3.7.6"
  }
 },
 "nbformat": 4,
 "nbformat_minor": 4
}
